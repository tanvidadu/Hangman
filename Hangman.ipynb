{
 "cells": [
  {
   "cell_type": "code",
   "execution_count": 2,
   "metadata": {
    "collapsed": true
   },
   "outputs": [],
   "source": [
    "import pandas as pd\n",
    "import json\n",
    "from pprint import pprint"
   ]
  },
  {
   "cell_type": "code",
   "execution_count": 3,
   "metadata": {
    "collapsed": false
   },
   "outputs": [],
   "source": [
    "unigramData = pd.read_csv('unigramLetterData.csv')"
   ]
  },
  {
   "cell_type": "code",
   "execution_count": 4,
   "metadata": {
    "collapsed": false
   },
   "outputs": [
    {
     "data": {
      "text/html": [
       "<div>\n",
       "<table border=\"1\" class=\"dataframe\">\n",
       "  <thead>\n",
       "    <tr style=\"text-align: right;\">\n",
       "      <th></th>\n",
       "      <th>0</th>\n",
       "      <th>1</th>\n",
       "    </tr>\n",
       "  </thead>\n",
       "  <tbody>\n",
       "    <tr>\n",
       "      <th>0</th>\n",
       "      <td>th</td>\n",
       "      <td>100272945963</td>\n",
       "    </tr>\n",
       "    <tr>\n",
       "      <th>1</th>\n",
       "      <td>he</td>\n",
       "      <td>86697336727</td>\n",
       "    </tr>\n",
       "    <tr>\n",
       "      <th>2</th>\n",
       "      <td>in</td>\n",
       "      <td>68595215308</td>\n",
       "    </tr>\n",
       "    <tr>\n",
       "      <th>3</th>\n",
       "      <td>er</td>\n",
       "      <td>57754162106</td>\n",
       "    </tr>\n",
       "    <tr>\n",
       "      <th>4</th>\n",
       "      <td>an</td>\n",
       "      <td>55974567611</td>\n",
       "    </tr>\n",
       "  </tbody>\n",
       "</table>\n",
       "</div>"
      ],
      "text/plain": [
       "    0             1\n",
       "0  th  100272945963\n",
       "1  he   86697336727\n",
       "2  in   68595215308\n",
       "3  er   57754162106\n",
       "4  an   55974567611"
      ]
     },
     "execution_count": 4,
     "metadata": {},
     "output_type": "execute_result"
    }
   ],
   "source": [
    "bigramData = None\n",
    "\n",
    "with open('bigramFiles/bigrams.json') as json_data:\n",
    "    d = json.load(json_data)\n",
    "    bigramData = pd.DataFrame.from_dict(d)\n",
    "bigramData.head()    "
   ]
  },
  {
   "cell_type": "code",
   "execution_count": 5,
   "metadata": {
    "collapsed": false
   },
   "outputs": [
    {
     "data": {
      "text/html": [
       "<div>\n",
       "<table border=\"1\" class=\"dataframe\">\n",
       "  <thead>\n",
       "    <tr style=\"text-align: right;\">\n",
       "      <th></th>\n",
       "      <th>Bigram</th>\n",
       "      <th>Percentage</th>\n",
       "    </tr>\n",
       "  </thead>\n",
       "  <tbody>\n",
       "    <tr>\n",
       "      <th>0</th>\n",
       "      <td>th</td>\n",
       "      <td>3.556203</td>\n",
       "    </tr>\n",
       "    <tr>\n",
       "      <th>1</th>\n",
       "      <td>he</td>\n",
       "      <td>3.074741</td>\n",
       "    </tr>\n",
       "    <tr>\n",
       "      <th>2</th>\n",
       "      <td>in</td>\n",
       "      <td>2.432745</td>\n",
       "    </tr>\n",
       "    <tr>\n",
       "      <th>3</th>\n",
       "      <td>er</td>\n",
       "      <td>2.048265</td>\n",
       "    </tr>\n",
       "    <tr>\n",
       "      <th>4</th>\n",
       "      <td>an</td>\n",
       "      <td>1.985151</td>\n",
       "    </tr>\n",
       "  </tbody>\n",
       "</table>\n",
       "</div>"
      ],
      "text/plain": [
       "  Bigram  Percentage\n",
       "0     th    3.556203\n",
       "1     he    3.074741\n",
       "2     in    2.432745\n",
       "3     er    2.048265\n",
       "4     an    1.985151"
      ]
     },
     "execution_count": 5,
     "metadata": {},
     "output_type": "execute_result"
    }
   ],
   "source": [
    "bigramData.columns = ['Bigram', 'Percentage']\n",
    "total_freq = bigramData['Percentage'].sum()\n",
    "bigramData['Percentage'] = (bigramData['Percentage']/float(total_freq))*100\n",
    "bigramData.head()"
   ]
  },
  {
   "cell_type": "code",
   "execution_count": 6,
   "metadata": {
    "collapsed": false
   },
   "outputs": [
    {
     "data": {
      "text/html": [
       "<div>\n",
       "<table border=\"1\" class=\"dataframe\">\n",
       "  <thead>\n",
       "    <tr style=\"text-align: right;\">\n",
       "      <th></th>\n",
       "      <th>Letter</th>\n",
       "      <th>Percentage</th>\n",
       "    </tr>\n",
       "  </thead>\n",
       "  <tbody>\n",
       "    <tr>\n",
       "      <th>0</th>\n",
       "      <td>E</td>\n",
       "      <td>12.02</td>\n",
       "    </tr>\n",
       "    <tr>\n",
       "      <th>1</th>\n",
       "      <td>T</td>\n",
       "      <td>9.10</td>\n",
       "    </tr>\n",
       "    <tr>\n",
       "      <th>2</th>\n",
       "      <td>A</td>\n",
       "      <td>8.12</td>\n",
       "    </tr>\n",
       "    <tr>\n",
       "      <th>3</th>\n",
       "      <td>O</td>\n",
       "      <td>7.68</td>\n",
       "    </tr>\n",
       "    <tr>\n",
       "      <th>4</th>\n",
       "      <td>I</td>\n",
       "      <td>7.31</td>\n",
       "    </tr>\n",
       "  </tbody>\n",
       "</table>\n",
       "</div>"
      ],
      "text/plain": [
       "  Letter  Percentage\n",
       "0      E       12.02\n",
       "1      T        9.10\n",
       "2      A        8.12\n",
       "3      O        7.68\n",
       "4      I        7.31"
      ]
     },
     "execution_count": 6,
     "metadata": {},
     "output_type": "execute_result"
    }
   ],
   "source": [
    "unigramData.head()"
   ]
  },
  {
   "cell_type": "code",
   "execution_count": 7,
   "metadata": {
    "collapsed": false
   },
   "outputs": [
    {
     "name": "stdout",
     "output_type": "stream",
     "text": [
      "humble\n"
     ]
    }
   ],
   "source": [
    "word = raw_input()\n",
    "guess_word_list = []\n",
    "penalty = 0\n",
    "guess_word = \"*\" * len(word)"
   ]
  },
  {
   "cell_type": "code",
   "execution_count": 8,
   "metadata": {
    "collapsed": true
   },
   "outputs": [],
   "source": [
    "def replaceLetter(word, guess_word, letter,):\n",
    "    new_word = \"\"\n",
    "    for i in range(len(word)):\n",
    "        if word[i] == letter:\n",
    "            new_word += letter\n",
    "        elif guess_word[i].isalpha() == True:\n",
    "            new_word += word[i]\n",
    "        else:\n",
    "            new_word += \"*\"\n",
    "    return new_word       "
   ]
  },
  {
   "cell_type": "code",
   "execution_count": 9,
   "metadata": {
    "collapsed": false
   },
   "outputs": [],
   "source": [
    "def guessLetter( word, guess_word, letter):\n",
    "    if letter in word:\n",
    "        guess_word = replaceLetter(word,guess_word, letter)\n",
    "    return guess_word"
   ]
  },
  {
   "cell_type": "code",
   "execution_count": 10,
   "metadata": {
    "collapsed": true
   },
   "outputs": [],
   "source": [
    "def guess_first_letter(word, guess_word):\n",
    "    for i in range(26):\n",
    "        new_word = guessLetter(word, guess_word, unigramData['Letter'].iloc[i].lower())\n",
    "        if new_word != guess_word:\n",
    "            guess_word_list.append(unigramData['Letter'].iloc[i].lower())\n",
    "            return new_word\n",
    "        else:\n",
    "            penalty += 1\n",
    "        "
   ]
  },
  {
   "cell_type": "code",
   "execution_count": 11,
   "metadata": {
    "collapsed": false
   },
   "outputs": [
    {
     "name": "stdout",
     "output_type": "stream",
     "text": [
      "*****e\n",
      "['e']\n",
      "0\n"
     ]
    }
   ],
   "source": [
    "guess_word = guess_first_letter(word, guess_word)\n",
    "print guess_word\n",
    "print guess_word_list\n",
    "print penalty"
   ]
  },
  {
   "cell_type": "code",
   "execution_count": 12,
   "metadata": {
    "collapsed": true
   },
   "outputs": [],
   "source": [
    "def getString( string, letter):\n",
    "    if string[0] == letter:\n",
    "        return 'L'\n",
    "    elif string[1] == letter:\n",
    "        return 'R'\n",
    "    else:\n",
    "        return 'X'"
   ]
  },
  {
   "cell_type": "code",
   "execution_count": 13,
   "metadata": {
    "collapsed": true
   },
   "outputs": [],
   "source": [
    "def maxProbBigram(letter):\n",
    "    bigram_dict = bigramData['Bigram'].apply(lambda x: getString(x, letter))\n",
    "    left_letter_data = bigramData[(bigram_dict == 'L')]\n",
    "    right_letter_data = bigramData[(bigram_dict == 'R')]\n",
    "    return (left_letter_data, right_letter_data)"
   ]
  },
  {
   "cell_type": "code",
   "execution_count": 14,
   "metadata": {
    "collapsed": true
   },
   "outputs": [],
   "source": [
    "def guessLetterHelper(word, guess_word, letter,penalty):\n",
    "    (left_letter_data, right_letter_data) = maxProbBigram(letter)\n",
    "    left_counter = 0\n",
    "    right_counter = 0\n",
    "    while(1):\n",
    "        left_letter = left_letter_data.iloc[left_counter, :]\n",
    "        right_letter = right_letter_data.iloc[right_counter, :]\n",
    "        if left_letter['Percentage'] > right_letter['Percentage']:\n",
    "            if left_letter['Bigram'][1] not in guess_word_list:\n",
    "                new_word = guessLetter(word, guess_word, left_letter['Bigram'][1])\n",
    "                guess_word_list.append(left_letter['Bigram'][1])\n",
    "                if new_word != guess_word:\n",
    "                    return (new_word, penalty)\n",
    "                else:\n",
    "                    left_counter += 1\n",
    "                    penalty += 1\n",
    "            else:\n",
    "                left_counter += 1\n",
    "        else:\n",
    "            if right_letter['Bigram'][1] not in guess_word_list:\n",
    "                new_word = guessLetter(word, guess_word, right_letter['Bigram'][0])\n",
    "                guess_word_list.append(right_letter['Bigram'][0])\n",
    "                if new_word != guess_word:\n",
    "                    return (new_word, penalty)\n",
    "                else:\n",
    "                    right_counter += 1\n",
    "                    penalty += 1\n",
    "            else:\n",
    "                right_counter += 1\n",
    "                "
   ]
  },
  {
   "cell_type": "code",
   "execution_count": 19,
   "metadata": {
    "collapsed": false
   },
   "outputs": [
    {
     "name": "stdout",
     "output_type": "stream",
     "text": [
      "humble\n",
      "['e', u'r', u'n', u's', u'd', u'a', u'l', u'i', u'y', u'o', u'u', u't', u'f', u'v', u'm', u'p', u'b', u'c', u'g', u'k', u'x', u'z', u'h']\n",
      "17\n"
     ]
    }
   ],
   "source": [
    "(guess_word, penalty) = guessLetterHelper(word, guess_word,'u', penalty)\n",
    "print guess_word\n",
    "print guess_word_list\n",
    "print penalty"
   ]
  },
  {
   "cell_type": "code",
   "execution_count": null,
   "metadata": {
    "collapsed": true
   },
   "outputs": [],
   "source": []
  }
 ],
 "metadata": {
  "kernelspec": {
   "display_name": "Python 2",
   "language": "python",
   "name": "python2"
  },
  "language_info": {
   "codemirror_mode": {
    "name": "ipython",
    "version": 2
   },
   "file_extension": ".py",
   "mimetype": "text/x-python",
   "name": "python",
   "nbconvert_exporter": "python",
   "pygments_lexer": "ipython2",
   "version": "2.7.13"
  }
 },
 "nbformat": 4,
 "nbformat_minor": 0
}
